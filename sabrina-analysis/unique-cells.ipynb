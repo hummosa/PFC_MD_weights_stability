{
 "cells": [
  {
   "cell_type": "code",
   "execution_count": 1,
   "metadata": {},
   "outputs": [],
   "source": [
    "import numpy as np\n",
    "import matplotlib.pyplot as plt\n",
    "import json\n",
    "import random\n",
    "import math\n",
    "import statsmodels.api as sm\n",
    "import matplotlib.pyplot as plt\n",
    "from scipy import stats\n",
    "from mpl_toolkits.mplot3d import Axes3D"
   ]
  },
  {
   "cell_type": "code",
   "execution_count": 110,
   "metadata": {},
   "outputs": [],
   "source": [
    "def logistic_regression(X, y):\n",
    "    try:\n",
    "        model_fit = sm.Logit(y,X).fit(maxiter=50)\n",
    "        return model_fit.prsquared\n",
    "    except np.linalg.LinAlgError:\n",
    "        return 0\n",
    "    except sm.tools.sm_exceptions.PerfectSeparationError:\n",
    "        return 1 # Data is linearly separable\n",
    "    \n",
    "def linear_regression(x, y):    \n",
    "    X = np.transpose([np.ones(len(x)), x])\n",
    "    model_fit = sm.OLS(y, X).fit()\n",
    "    return (model_fit.rsquared, model_fit.params[1], model_fit.params[0])\n",
    "\n",
    "def sample_trials(alevel_idxs, n_samples):\n",
    "    trial_per_alevel = 500\n",
    "    trials_offset = 200 # Only consider the second half of the alevel\n",
    "    \n",
    "    trials_to_sample = []\n",
    "    for n_bin in alevel_idxs:\n",
    "        trial_s = n_bin * trial_per_alevel + trials_offset\n",
    "        trial_t = (n_bin + 1) * trial_per_alevel\n",
    "        trials_to_sample = trials_to_sample + list(range(trial_s, trial_t))\n",
    "    return np.array(random.sample(trials_to_sample, n_samples))"
   ]
  },
  {
   "cell_type": "code",
   "execution_count": 154,
   "metadata": {},
   "outputs": [],
   "source": [
    "def debug_plot(fr, v1, r, V_coeff, V_const):\n",
    "    [fr_match_cue1, fr_match_cue2, fr_nonmatch_cue1, fr_nonmatch_cue2] = fr\n",
    "    [v1_match_cue1, v1_match_cue2, v1_nonmatch_cue1, v1_nonmatch_cue2] = v1\n",
    "    [r_match_cue1, r_match_cue2, r_nonmatch_cue1, r_nonmatch_cue2] = r\n",
    "    \n",
    "    plt.figure(figsize=(25,10))\n",
    "\n",
    "    w = 0.3\n",
    "    x = np.arange(4)\n",
    "\n",
    "    axp = plt.subplot(2,4,2)\n",
    "    plt.xticks(x, [\"match/cue1\", \"match/cue2\", \"nonmatch/cue1\", \"nonmatch/cue2\"])\n",
    "    axp.bar(x,  np.nan_to_num([r_match_cue1, r_match_cue2, r_nonmatch_cue1, r_nonmatch_cue2]))\n",
    "    axp.set_ylim((-1,1))\n",
    "    axp.set_title(\"Pearson correleation r\")\n",
    "\n",
    "    ax2 = plt.subplot(2,4,5)\n",
    "    ax2.scatter(fr_match_cue1, v1_match_cue1, marker=\".\")\n",
    "    ax2.plot(x, V_coeff[0]*x + V_const[0])\n",
    "    ax2.set_xlim((0,1))\n",
    "    ax2.set_ylim((0,1))\n",
    "    ax2.set_title(\"match/cue1\")\n",
    "    ax2.set_xlabel(\"neuron firing rate\")\n",
    "    ax2.set_ylabel(\"V1 value\")\n",
    "    \n",
    "    ax3 = plt.subplot(2,4,6)\n",
    "    ax3.scatter(fr_match_cue2, v1_match_cue2, marker=\".\")\n",
    "    ax3.plot(x, V_coeff[1]*x + V_const[1])\n",
    "    ax3.set_xlim((0,1))\n",
    "    ax3.set_ylim((0,1))\n",
    "    ax3.set_title(\"match/cue2\")\n",
    "\n",
    "    ax4 = plt.subplot(2,4,7)\n",
    "    ax4.scatter(fr_nonmatch_cue1, v1_nonmatch_cue1, marker=\".\")\n",
    "    ax4.plot(x, V_coeff[2]*x + V_const[2])\n",
    "    ax4.set_xlim((0,1))\n",
    "    ax4.set_ylim((0,1))\n",
    "    ax4.set_title(\"non-match/cue1\")\n",
    "\n",
    "    print(len(fr_nonmatch_cue2), len(v1_nonmatch_cue2))\n",
    "    ax5 = plt.subplot(2,4,8)\n",
    "    ax5.scatter(fr_nonmatch_cue2, v1_nonmatch_cue2, marker=\".\")    \n",
    "    ax5.plot(x, V_coeff[3]*x + V_const[3])\n",
    "    ax5.set_xlim((0,1))\n",
    "    ax5.set_ylim((0,1))\n",
    "    ax5.set_title(\"non-match/cue2\")\n",
    "    \n",
    "    return plt\n",
    "\n",
    "def debug_plot_scatter(neuron_idx, rPFC_trials, rMD_trials, v1v2_values, cue, trials):\n",
    "    CUE_TIME = 100\n",
    "    cuetime_s = math.floor(CUE_TIME - (CUE_TIME / 2))\n",
    "    cuetime_t = CUE_TIME\n",
    "    \n",
    "    neuron_all_cue = np.mean(rPFC_trials[:, cuetime_s:cuetime_t, neuron_idx],1)\n",
    "    v1_all = v1v2_values[0,:]\n",
    "\n",
    "    b_cue1 = cue.astype(bool)\n",
    "    b_MD1_cue = np.rint(np.mean(rMD_trials[trials, cuetime_s:cuetime_t, 1], 1)).astype(bool)\n",
    "    \n",
    "    plt.figure(figsize=(14,7))\n",
    "    \n",
    "    ax1 = plt.subplot(1,2,1)\n",
    "    \n",
    "    trials_90_cue1_MD1 = np.array(trials[0:100])[b_cue1[0:100] * b_MD1_cue[0:100]]\n",
    "    trials_90_cue1_MD0 = np.array(trials[0:100])[b_cue1[0:100] * np.invert(b_MD1_cue[0:100])]\n",
    "    ax1.scatter(neuron_all_cue[trials_90_cue1_MD1], v1_all[trials_90_cue1_MD1], color='b', marker=\"^\", alpha=0.5, s=80, label=\".9\")\n",
    "    ax1.scatter(neuron_all_cue[trials_90_cue1_MD0], v1_all[trials_90_cue1_MD0], color='b', marker=\"^\", alpha=0.5, s=80, linewidths=2, edgecolors='k')\n",
    "\n",
    "    trials_90_cue0_MD1 = np.array(trials[0:100])[np.invert(b_cue1[0:100]) * b_MD1_cue[0:100]]\n",
    "    trials_90_cue0_MD0 = np.array(trials[0:100])[np.invert(b_cue1[0:100]) * np.invert(b_MD1_cue[0:100])]\n",
    "    ax1.scatter(neuron_all_cue[trials_90_cue0_MD1], v1_all[trials_90_cue0_MD1], color='b', marker=\"<\", alpha=0.5, s=80)\n",
    "    ax1.scatter(neuron_all_cue[trials_90_cue0_MD0], v1_all[trials_90_cue0_MD0], color='b', marker=\"<\", alpha=0.5, s=80, linewidths=2, edgecolors='k')\n",
    "\n",
    "    trials_10_cue1_MD1 = np.array(trials[200:300])[b_cue1[200:300] * b_MD1_cue[200:300]]\n",
    "    trials_10_cue1_MD0 = np.array(trials[200:300])[b_cue1[200:300] * np.invert(b_MD1_cue[200:300])]\n",
    "    ax1.scatter(neuron_all_cue[trials_10_cue1_MD1], v1_all[trials_10_cue1_MD1], color='g', marker=\"^\", alpha=0.5, s=80, label=\".1\")\n",
    "    ax1.scatter(neuron_all_cue[trials_10_cue1_MD0], v1_all[trials_10_cue1_MD0], color='g', marker=\"^\", alpha=0.5, s=80, linewidths=2, edgecolors='k')\n",
    "\n",
    "    trials_10_cue0_MD1 = np.array(trials[200:300])[np.invert(b_cue1[200:300]) * b_MD1_cue[200:300]]\n",
    "    trials_10_cue0_MD0 = np.array(trials[200:300])[np.invert(b_cue1[200:300]) * np.invert(b_MD1_cue[200:300])]\n",
    "    ax1.scatter(neuron_all_cue[trials_10_cue0_MD1], v1_all[trials_10_cue0_MD1], color='g', marker=\"<\", alpha=0.5, s=80)\n",
    "    ax1.scatter(neuron_all_cue[trials_10_cue0_MD0], v1_all[trials_10_cue0_MD0], color='g', marker=\"<\", alpha=0.5, s=80, linewidths=2, edgecolors='k')\n",
    "\n",
    "    trials_70_cue1_MD1 = np.array(trials[100:200])[b_cue1[100:200] * b_MD1_cue[100:200]]\n",
    "    trials_70_cue1_MD0 = np.array(trials[100:200])[b_cue1[100:200] * np.invert(b_MD1_cue[100:200])]\n",
    "    ax1.scatter(neuron_all_cue[trials_70_cue1_MD1], v1_all[trials_70_cue1_MD1], color='r', marker=\"^\", alpha=0.5, s=80, label=\".7\")\n",
    "    ax1.scatter(neuron_all_cue[trials_70_cue1_MD0], v1_all[trials_70_cue1_MD0], color='r', marker=\"^\", alpha=0.5, s=80, linewidths=2, edgecolors='k')\n",
    "\n",
    "    trials_70_cue0_MD1 = np.array(trials[100:200])[np.invert(b_cue1[100:200]) * b_MD1_cue[100:200]]\n",
    "    trials_70_cue0_MD0 = np.array(trials[100:200])[np.invert(b_cue1[100:200]) * np.invert(b_MD1_cue[100:200])]\n",
    "    ax1.scatter(neuron_all_cue[trials_70_cue0_MD1], v1_all[trials_70_cue0_MD1], color='r', marker=\"<\", alpha=0.5, s=80)\n",
    "    ax1.scatter(neuron_all_cue[trials_70_cue0_MD0], v1_all[trials_70_cue0_MD0], color='r', marker=\"<\", alpha=0.5, s=80, linewidths=2, edgecolors='k')\n",
    "\n",
    "    trials_30_cue1_MD1 = np.array(trials[300:400])[b_cue1[300:400] * b_MD1_cue[300:400]]\n",
    "    trials_30_cue1_MD0 = np.array(trials[300:400])[b_cue1[300:400] * np.invert(b_MD1_cue[300:400])]\n",
    "    ax1.scatter(neuron_all_cue[trials_30_cue1_MD1], v1_all[trials_30_cue1_MD1], color='c', marker=\"^\", alpha=0.5, s=80, label=\".3\")\n",
    "    ax1.scatter(neuron_all_cue[trials_30_cue1_MD0], v1_all[trials_30_cue1_MD0], color='c', marker=\"^\", alpha=0.5, s=80, linewidths=2, edgecolors='k')\n",
    "\n",
    "    trials_30_cue0_MD1 = np.array(trials[300:400])[np.invert(b_cue1[300:400]) * b_MD1_cue[300:400]]\n",
    "    trials_30_cue0_MD0 = np.array(trials[300:400])[np.invert(b_cue1[300:400]) * np.invert(b_MD1_cue[300:400])]\n",
    "    ax1.scatter(neuron_all_cue[trials_30_cue0_MD1], v1_all[trials_30_cue0_MD1], color='r', marker=\"<\", alpha=0.5, s=80)\n",
    "    ax1.scatter(neuron_all_cue[trials_30_cue0_MD0], v1_all[trials_30_cue0_MD0], color='r', marker=\"<\", alpha=0.5, s=80, linewidths=2, edgecolors='k')\n",
    "\n",
    "    ax1.set_xlabel('PFC activity')\n",
    "    ax1.set_ylabel('V1 value')\n",
    "    ax1.legend()\n",
    "    \n",
    "    return plt"
   ]
  },
  {
   "cell_type": "code",
   "execution_count": 175,
   "metadata": {},
   "outputs": [],
   "source": [
    "def get_data(data_dir):\n",
    "    N_PFC_NEURONS = 500\n",
    "    N_MD_NEURONS = 2\n",
    "    N_OUTPUT_NEURONS = 2\n",
    "    TRIAL_TIME = 200\n",
    "\n",
    "    s_trial = 0\n",
    "    t_trial = 4500\n",
    "    n_trials = t_trial - s_trial\n",
    "\n",
    "    rPFC_trials = np.zeros((n_trials, TRIAL_TIME, N_PFC_NEURONS))\n",
    "    rMD_trials = np.zeros((n_trials, TRIAL_TIME, N_MD_NEURONS))\n",
    "    task_input = np.zeros((2, n_trials))\n",
    "    v1v2_values = np.zeros((2, n_trials))\n",
    "\n",
    "    for i in range(s_trial, t_trial):\n",
    "        with open(data_dir + \"/\" + str(i) + \".json\") as json_file:\n",
    "            data = json.load(json_file)\n",
    "            idx = i - s_trial\n",
    "\n",
    "            rPFC = np.array(data[\"network_rates\"][\"r_PFC\"])\n",
    "            rPFC_trials[idx,:,:] = rPFC\n",
    "            \n",
    "            rMD = np.array(data[\"network_rates\"][\"r_MD\"])\n",
    "            rMD_trials[idx,:,:] = rMD\n",
    "\n",
    "            trial_task_input = np.array(data[\"trial_data\"][\"input\"])\n",
    "            task_input[:,idx] = trial_task_input[:2]\n",
    "            v1v2_values[:,idx] = trial_task_input[2:4]\n",
    "            \n",
    "    return (rPFC_trials, rMD_trials, task_input, v1v2_values)\n",
    "            \n",
    "def score_uniqueness(rPFC_trials, task_input, v1v2_values):\n",
    "    N_PFC_NEURONS = 500\n",
    "    N_MD_NEURONS = 2\n",
    "    N_OUTPUT_NEURONS = 2\n",
    "    TRIAL_TIME = 200\n",
    "    \n",
    "    CUE_TIME = 100\n",
    "    TRIAL_SAMPLE_SIZE = 150\n",
    "    \n",
    "    # Block schedule ['30', '90', '10', '90', '70', '30', '10', '70']\n",
    "    alevel_90_idxs = [1,3]\n",
    "    alevel_10_idxs = [2,6]\n",
    "    alevel_70_idxs = [4,7]\n",
    "    alevel_30_idxs = [0,5]\n",
    "\n",
    "    pearson_R = np.zeros((N_PFC_NEURONS, 4))\n",
    "\n",
    "    # Randomly sample trials for analysis from the second half of each alevel\n",
    "    # We ensure all alevels are equally represented\n",
    "\n",
    "    alevel_90_trials = sample_trials(alevel_90_idxs, TRIAL_SAMPLE_SIZE)\n",
    "    alevel_10_trials = sample_trials(alevel_10_idxs, TRIAL_SAMPLE_SIZE)\n",
    "    alevel_70_trials = sample_trials(alevel_70_idxs, TRIAL_SAMPLE_SIZE)\n",
    "    alevel_30_trials = sample_trials(alevel_30_idxs, TRIAL_SAMPLE_SIZE)\n",
    "    \n",
    "    match_trials = np.concatenate((alevel_90_trials, alevel_70_trials))\n",
    "    nonmatch_trials = np.concatenate((alevel_10_trials, alevel_30_trials))\n",
    "    trials = np.concatenate((match_trials, nonmatch_trials))\n",
    "\n",
    "    # Plot distribution of association levels\n",
    "#     plt.hist(v1v2_values[0,trials])\n",
    "#     plt.xlabel(\"V1 Value\")\n",
    "#     plt.ylabel(\"Num trials\")\n",
    "#     plt.show()\n",
    "\n",
    "    match_trials_idxs = v1v2_values[0,match_trials] >= 0.6\n",
    "    nonmatch_trials_idxs = v1v2_values[0,nonmatch_trials] <= 0.4\n",
    "    match_trials = match_trials[match_trials_idxs]\n",
    "    nonmatch_trials = nonmatch_trials[nonmatch_trials_idxs]\n",
    "    trials = np.concatenate((match_trials, nonmatch_trials))\n",
    "\n",
    "    # Get cue 1 value and neuron activity for each trial\n",
    "    # Only consider the activity over the second half of the cue period\n",
    "\n",
    "    cuetime_s = math.floor(CUE_TIME - (CUE_TIME / 2))\n",
    "    cuetime_t = CUE_TIME\n",
    "\n",
    "    trials_match_cue1 = match_trials[np.where(task_input[0,match_trials])]\n",
    "    trials_match_cue2 = match_trials[np.where(1-task_input[0,match_trials])]\n",
    "    trials_nonmatch_cue1 = nonmatch_trials[np.where(task_input[0,nonmatch_trials])]\n",
    "    trials_nonmatch_cue2 = nonmatch_trials[np.where(1-task_input[0,nonmatch_trials])]\n",
    "\n",
    "    v1_match_cue1 = v1v2_values[0,trials_match_cue1]\n",
    "    v1_match_cue2 = v1v2_values[0,trials_match_cue2]\n",
    "    v1_nonmatch_cue1 = v1v2_values[0,trials_nonmatch_cue1]\n",
    "    v1_nonmatch_cue2 = v1v2_values[0,trials_nonmatch_cue2]\n",
    "    \n",
    "    V_coeff = np.zeros((N_PFC_NEURONS, 4))\n",
    "    V_const = np.zeros((N_PFC_NEURONS, 4))\n",
    "\n",
    "    # Compute regression and plot\n",
    "\n",
    "    for neuron_idx in range(N_PFC_NEURONS):\n",
    "        fr_match_cue1 = np.mean(rPFC_trials[trials_match_cue1, cuetime_s:cuetime_t, neuron_idx],1)\n",
    "        fr_match_cue2 = np.mean(rPFC_trials[trials_match_cue2, cuetime_s:cuetime_t, neuron_idx],1)\n",
    "        fr_nonmatch_cue1 = np.mean(rPFC_trials[trials_nonmatch_cue1, cuetime_s:cuetime_t, neuron_idx],1)\n",
    "        fr_nonmatch_cue2 = np.mean(rPFC_trials[trials_nonmatch_cue2, cuetime_s:cuetime_t, neuron_idx],1)\n",
    "        \n",
    "        (r2_match_cue1, coeff_match_cue1, const_match_cue1) = linear_regression(fr_match_cue1, v1_match_cue1)\n",
    "        (r2_match_cue2, coeff_match_cue2, const_match_cue2) = linear_regression(fr_match_cue2, v1_match_cue2)\n",
    "        (r2_nonmatch_cue1, coeff_nonmatch_cue1, const_nonmatch_cue1) = linear_regression(fr_nonmatch_cue1, v1_nonmatch_cue1)\n",
    "        (r2_nonmatch_cue2, coeff_nonmatch_cue2, const_nonmatch_cue2) = linear_regression(fr_nonmatch_cue2, v1_nonmatch_cue2)\n",
    "        V_coeff[neuron_idx,:] = [coeff_match_cue1, coeff_match_cue2, coeff_nonmatch_cue1, coeff_nonmatch_cue2]\n",
    "        V_const[neuron_idx,:] = [const_match_cue1, const_match_cue2, const_nonmatch_cue1, const_nonmatch_cue2]\n",
    "\n",
    "        [r_match_cue1, p_match_cue1] = stats.pearsonr(fr_match_cue1, v1_match_cue1)\n",
    "        [r_match_cue2, p_match_cue2] = stats.pearsonr(fr_match_cue2, v1_match_cue2)\n",
    "        [r_nonmatch_cue1, p_nonmatch_cue1] = stats.pearsonr(fr_nonmatch_cue1, v1_nonmatch_cue1)    \n",
    "        [r_nonmatch_cue2, p_nonmatch_cue2] = stats.pearsonr(fr_nonmatch_cue2, v1_nonmatch_cue2)\n",
    "        pearson_R[neuron_idx,:] = [r_match_cue1, r_match_cue2, r_nonmatch_cue1, r_nonmatch_cue2]\n",
    "        \n",
    "        \n",
    "        # Plots for debuggin (NOTE: First plot is broken)\n",
    "#         plt1 = debug_plot_scatter(neuron_idx, rPFC_trials, rMD_trials, v1v2_values, task_input[0, trials].astype(bool), trials)\n",
    "#         plt1.show()\n",
    "#         fr = [fr_match_cue1, fr_match_cue2, fr_nonmatch_cue1, fr_nonmatch_cue2]\n",
    "#         v1 = [v1_match_cue1, v1_match_cue2, v1_nonmatch_cue1, v1_nonmatch_cue2]\n",
    "#         r = [r_match_cue1, r_match_cue2, r_nonmatch_cue1, r_nonmatch_cue2]        \n",
    "#         plt2 = debug_plot(fr, v1, r, V_coeff[neuron_idx,:], V_const[neuron_idx,:])\n",
    "#         plt2.show()\n",
    "        \n",
    "    scores = np.zeros((pearson_R.shape[0],1))\n",
    "    for i in range(0,pearson_R.shape[0]):\n",
    "        r_vals = np.nan_to_num(np.abs(pearson_R[i,:]))\n",
    "        max_r = max(r_vals)\n",
    "        others = np.delete(r_vals, np.where(r_vals == max(r_vals))[0][0])\n",
    "        scores[i] = max_r - sum(others)  \n",
    "        \n",
    "    return scores"
   ]
  },
  {
   "cell_type": "code",
   "execution_count": 161,
   "metadata": {},
   "outputs": [],
   "source": [
    "# (rPFC_trials, rMD_trials, task_input, v1v2_values) = get_data(\"/om2/group/halassa/PFCMD-ali-sabrina/MD_on/by_trial\")\n",
    "(rPFC_trials_noMD, rMD_trials, task_input_noMD, v1v2_values_noMD) = get_data(\"/om2/group/halassa/PFCMD-ali-sabrina/MD_off/by_trial\")"
   ]
  },
  {
   "cell_type": "code",
   "execution_count": 176,
   "metadata": {},
   "outputs": [
    {
     "data": {
      "image/png": "[encoded data removed]",
      "text/plain": [
       "<Figure size 432x288 with 1 Axes>"
      ]
     },
     "metadata": {
      "needs_background": "light"
     },
     "output_type": "display_data"
    },
    {
     "name": "stderr",
     "output_type": "stream",
     "text": [
      "/om2/user/sdrammis/anaconda/lib/python3.8/site-packages/scipy/stats/stats.py:3845: PearsonRConstantInputWarning: An input array is constant; the correlation coefficent is not defined.\n",
      "  warnings.warn(PearsonRConstantInputWarning())\n"
     ]
    },
    {
     "data": {
      "image/png": "[encoded data removed]",
      "text/plain": [
       "<Figure size 432x288 with 1 Axes>"
      ]
     },
     "metadata": {
      "needs_background": "light"
     },
     "output_type": "display_data"
    },
    {
     "data": {
      "image/png": "[encoded data removed]",
      "text/plain": [
       "<Figure size 432x288 with 1 Axes>"
      ]
     },
     "metadata": {
      "needs_background": "light"
     },
     "output_type": "display_data"
    },
    {
     "data": {
      "image/png": "[encoded data removed]",
      "text/plain": [
       "<Figure size 432x288 with 1 Axes>"
      ]
     },
     "metadata": {
      "needs_background": "light"
     },
     "output_type": "display_data"
    }
   ],
   "source": [
    "scores = score_uniqueness(rPFC_trials, task_input, v1v2_values)\n",
    "scores_noMD = score_uniqueness(rPFC_trials, task_input, v1v2_values)\n",
    "plt.hist(scores, bins=25, density=True, cumulative=True, histtype='step')\n",
    "plt.hist(scores_noMD, bins=25, density=True, cumulative=True, histtype='step')\n",
    "plt.show()\n",
    "\n",
    "plt.hist(scores, bins=25)\n",
    "plt.show()\n",
    "\n",
    "# plt.hist(scores_noMD, bins=25)\n",
    "# plt.show()\n",
    "# print(np.unique(np.concatenate((v1v2_values[0,2000:2500], v1v2_values[0,3500:4000]))))\n"
   ]
  },
  {
   "cell_type": "code",
   "execution_count": 123,
   "metadata": {},
   "outputs": [
    {
     "data": {
      "image/png": "[encoded data removed]",
      "text/plain": [
       "<Figure size 432x288 with 1 Axes>"
      ]
     },
     "metadata": {
      "needs_background": "light"
     },
     "output_type": "display_data"
    },
    {
     "name": "stdout",
     "output_type": "stream",
     "text": [
      "[0.375 0.4   0.625 0.65  0.675 0.7   0.725 0.925] [0.075 0.35  0.725]\n"
     ]
    },
    {
     "data": {
      "image/png": "[encoded data removed]",
      "text/plain": [
       "<Figure size 432x288 with 1 Axes>"
      ]
     },
     "metadata": {
      "needs_background": "light"
     },
     "output_type": "display_data"
    }
   ],
   "source": [
    "# plt.plot(v1v2_values[0,:])\n",
    "# plt.show()\n",
    "\n",
    "plt.plot(v1v2_values[0,3500:4000])\n",
    "plt.ylim((0,1))\n",
    "plt.show()\n",
    "\n",
    "print(np.unique(v1v2_values[0,2000:2500]), np.unique(v1v2_values[0,3500:4000]))\n",
    "plt.plot(v1v2_values[0,2000:2500])\n",
    "plt.ylim((0,1))\n",
    "plt.show()"
   ]
  },
  {
   "cell_type": "code",
   "execution_count": null,
   "metadata": {},
   "outputs": [],
   "source": []
  }
 ],
 "metadata": {
  "kernelspec": {
   "display_name": "Python 3",
   "language": "python",
   "name": "python3"
  },
  "language_info": {
   "codemirror_mode": {
    "name": "ipython",
    "version": 3
   },
   "file_extension": ".py",
   "mimetype": "text/x-python",
   "name": "python",
   "nbconvert_exporter": "python",
   "pygments_lexer": "ipython3",
   "version": "3.8.5"
  }
 },
 "nbformat": 4,
 "nbformat_minor": 4
}
