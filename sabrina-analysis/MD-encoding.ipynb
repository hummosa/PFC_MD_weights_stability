{
 "cells": [
  {
   "cell_type": "code",
   "execution_count": 1,
   "metadata": {},
   "outputs": [],
   "source": [
    "import numpy as np\n",
    "import matplotlib.pyplot as plt\n",
    "import json\n",
    "import random\n",
    "import math\n",
    "import statsmodels.api as sm\n",
    "import matplotlib.pyplot as plt\n",
    "from scipy import stats\n",
    "from sklearn.cluster import KMeans\n",
    "import pickle\n",
    "from matplotlib.ticker import PercentFormatter\n",
    "import pandas as pd\n",
    "import seaborn as sns"
   ]
  },
  {
   "cell_type": "code",
   "execution_count": 2,
   "metadata": {},
   "outputs": [],
   "source": [
    "def sample_trials(alevel_idxs, n_samples):\n",
    "    trial_per_alevel = 500\n",
    "    trials_offset = 200 # Only consider the second half of the alevel\n",
    "    \n",
    "    trials_to_sample = []\n",
    "    for n_bin in alevel_idxs:\n",
    "        trial_s = n_bin * trial_per_alevel + trials_offset\n",
    "        trial_t = (n_bin + 1) * trial_per_alevel\n",
    "        trials_to_sample = trials_to_sample + list(range(trial_s, trial_t))\n",
    "    return np.array(random.sample(trials_to_sample, n_samples))"
   ]
  },
  {
   "cell_type": "code",
   "execution_count": 36,
   "metadata": {},
   "outputs": [],
   "source": [
    "def get_data(data_dir):\n",
    "    N_PFC_NEURONS = 500\n",
    "    N_MD_NEURONS = 2\n",
    "    N_OUTPUT_NEURONS = 2\n",
    "    TRIAL_TIME = 200\n",
    "\n",
    "    s_trial = 0\n",
    "    t_trial = 4000\n",
    "    n_trials = t_trial - s_trial\n",
    "\n",
    "    task_input = np.zeros((2, n_trials))\n",
    "    rMD_trials = np.zeros((n_trials, TRIAL_TIME, N_MD_NEURONS))\n",
    "    rOutput_trials = np.zeros((n_trials, TRIAL_TIME, N_OUTPUT_NEURONS))\n",
    "\n",
    "    for i in range(s_trial, t_trial):\n",
    "        with open(data_dir + \"/\" + str(i) + \".json\") as json_file:\n",
    "            data = json.load(json_file)\n",
    "            idx = i - s_trial\n",
    "\n",
    "            trial_task_input = np.array(data[\"trial_data\"][\"input\"])\n",
    "            task_input[:,idx] = trial_task_input[:2]\n",
    "            rMD = np.array(data[\"network_rates\"][\"r_MD\"])\n",
    "            rMD_trials[idx,:,:] = rMD\n",
    "            rOutput = np.array(data[\"network_rates\"][\"r_output\"])\n",
    "            rOutput_trials[idx,:,:] = rOutput\n",
    "            \n",
    "    return (task_input, rMD_trials, rOutput_trials)"
   ]
  },
  {
   "cell_type": "code",
   "execution_count": 37,
   "metadata": {},
   "outputs": [],
   "source": [
    "# RUNS_MD = [\"seed0_MDon\", \"seed42_MDon\", \"seed778_MDon\", \"seed88_MDon\", \"seed127_MDon\", \"seed12_MDon_10\", \"seed312_MDon_10\", \"seed400_MDon_10\", \"seed177_MDon_10\", \"seed83_MDon_10\"]\n",
    "\n",
    "# for i in range(len(RUNS_MD)):\n",
    "#     data_MDon = get_data(\"/om2/group/halassa/PFCMD-ali-sabrina/\" + RUNS_MD[i] + \"/by_trial\")\n",
    "\n",
    "data = get_data(\"/om2/group/halassa/PFCMD-ali-sabrina/seed0_MDon/by_trial\")"
   ]
  },
  {
   "cell_type": "code",
   "execution_count": 68,
   "metadata": {},
   "outputs": [
    {
     "data": {
      "image/png": "[encoded data removed]",
      "text/plain": [
       "<Figure size 432x288 with 1 Axes>"
      ]
     },
     "metadata": {
      "needs_background": "light"
     },
     "output_type": "display_data"
    }
   ],
   "source": [
    "# For each trial determine: (1) winning MD neuron, (2) context, (3) cue, (4) output\n",
    "N_TRIALS_IN_BLOCK = 500\n",
    "TRIAL_TIME = 200\n",
    "\n",
    "(task_input, rMD_trials, rOutput_trials) = data\n",
    "\n",
    "starts_with_90 = True\n",
    "\n",
    "n_match_MD0 = 0\n",
    "n_nmatch_MD0 = 0\n",
    "n_match_MD1 = 0\n",
    "n_nmatch_MD1 = 0\n",
    "\n",
    "n_cueup_MD0 = 0\n",
    "n_cuedown_MD0 = 0\n",
    "n_cueup_MD1 = 0\n",
    "n_cuedown_MD1 = 0\n",
    "\n",
    "n_choiceup_MD0 = 0\n",
    "n_choicedown_MD0 = 0\n",
    "n_choiceup_MD1 = 0\n",
    "n_choicedown_MD1 = 0\n",
    "\n",
    "for ctx_idx in range(8):\n",
    "    if starts_with_90:\n",
    "        alevel_90_idxs = [0,2,4,6]\n",
    "        alevel_10_idxs = [1,3,5,7]\n",
    "    else:\n",
    "        alevel_10_idxs = [0,2,4,6]\n",
    "        alevel_90_idxs = [1,3,5,7]\n",
    "        \n",
    "    context = \"MATCH\" if ctx_idx in alevel_90_idxs else \"NON-MATCH\"\n",
    "    \n",
    "    for j in range(N_TRIALS_IN_BLOCK):\n",
    "        trial_idx = j + ctx_idx * N_TRIALS_IN_BLOCK\n",
    "                \n",
    "        is_MD0_winner = True if rMD_trials[trial_idx,TRIAL_TIME-1,0] else False\n",
    "        if is_MD0_winner and context == \"MATCH\":\n",
    "            n_match_MD0 += 1\n",
    "        elif is_MD0_winner and context == \"NON-MATCH\":\n",
    "            n_nmatch_MD0 += 1\n",
    "        elif not is_MD0_winner and context == \"MATCH\":\n",
    "            n_match_MD1 += 1\n",
    "        elif not is_MD0_winner and context == \"NON-MATCH\":\n",
    "            n_nmatch_MD1 += 1\n",
    "            \n",
    "        is_cue_up = True if task_input[0][trial_idx] == 1 else False\n",
    "        if is_MD0_winner and is_cue_up:\n",
    "            n_cueup_MD0 += 1\n",
    "        elif is_MD0_winner and not is_cue_up:\n",
    "            n_cuedown_MD0 += 1\n",
    "        elif not is_MD0_winner and is_cue_up:\n",
    "            n_cueup_MD1 += 1\n",
    "        elif not is_MD0_winner and not is_cue_up:\n",
    "            n_cuedown_MD1 += 1\n",
    "        \n",
    "        output_mean = np.mean(rOutput_trials[trial_idx,:], axis=0)\n",
    "        is_choice_up = True if output_mean[0] > output_mean[1] else False\n",
    "        if is_MD0_winner and is_choice_up:\n",
    "            n_choiceup_MD0 += 1\n",
    "        elif is_MD0_winner and not is_choice_up:\n",
    "            n_choicedown_MD0 += 1\n",
    "        elif not is_MD0_winner and is_choice_up:\n",
    "            n_choiceup_MD1 += 1\n",
    "        elif not is_MD0_winner and not is_choice_up:\n",
    "            n_choicedown_MD1 += 1\n",
    "            \n",
    "labels = [\"match\", \"non-match\", \"cue=up\", \"cue=down\", \"choice=up\", \"choice=down\"]\n",
    "d_MD0 = [n_match_MD0, n_nmatch_MD0, n_cueup_MD0, n_cuedown_MD0, n_choiceup_MD0, n_choicedown_MD0]\n",
    "d_MD1 = [n_match_MD1, n_nmatch_MD1, n_cueup_MD1, n_cuedown_MD1, n_choiceup_MD1, n_choicedown_MD1]\n",
    "            \n",
    "plt.bar(labels, d_MD0, label=\"MD0\")\n",
    "plt.bar(labels, d_MD1, bottom=d_MD0, label=\"MD1\")\n",
    "plt.ylabel(\"# Trials MD(i) is the winnner\")\n",
    "plt.title(\"MD encoding\")\n",
    "plt.legend()\n",
    "plt.show()\n",
    "            "
   ]
  },
  {
   "cell_type": "code",
   "execution_count": null,
   "metadata": {},
   "outputs": [],
   "source": []
  }
 ],
 "metadata": {
  "kernelspec": {
   "display_name": "Python 3",
   "language": "python",
   "name": "python3"
  },
  "language_info": {
   "codemirror_mode": {
    "name": "ipython",
    "version": 3
   },
   "file_extension": ".py",
   "mimetype": "text/x-python",
   "name": "python",
   "nbconvert_exporter": "python",
   "pygments_lexer": "ipython3",
   "version": "3.8.5"
  }
 },
 "nbformat": 4,
 "nbformat_minor": 4
}
